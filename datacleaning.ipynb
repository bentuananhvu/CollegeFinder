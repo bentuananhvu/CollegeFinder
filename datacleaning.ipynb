{
 "cells": [
  {
   "cell_type": "code",
   "execution_count": 1,
   "metadata": {
    "cell_id": "eef34dc27cc24e2793ba2ff8bdf07879",
    "deepnote_cell_type": "code"
   },
   "outputs": [],
   "source": [
    "import numpy as np\n",
    "import pandas as pd\n",
    "from pathlib import Path\n",
    "from sklearn.experimental import enable_iterative_imputer  \n",
    "from sklearn.impute import IterativeImputer"
   ]
  },
  {
   "cell_type": "markdown",
   "metadata": {
    "cell_id": "83d7bcb0482a422eb2cdf0c7bc5209aa",
    "deepnote_cell_type": "markdown"
   },
   "source": [
    "## Combine Scorecard & IPEDS Data"
   ]
  },
  {
   "cell_type": "code",
   "execution_count": 2,
   "metadata": {
    "cell_id": "dcb499b6acca4784bd20d5b15ec00a56",
    "deepnote_cell_type": "code"
   },
   "outputs": [
    {
     "name": "stdout",
     "output_type": "stream",
     "text": [
      "                                        InstitutionName        City StateCode  \\\n",
      "0                              Alabama A & M University      Normal        AL   \n",
      "1                   University of Alabama at Birmingham  Birmingham        AL   \n",
      "2                                    Amridge University  Montgomery        AL   \n",
      "3                   University of Alabama in Huntsville  Huntsville        AL   \n",
      "4                              Alabama State University  Montgomery        AL   \n",
      "...                                                 ...         ...       ...   \n",
      "6385  Pennsylvania State University-Penn State Wilke...      Lehman        PA   \n",
      "6386      Pennsylvania State University-Penn State York        York        PA   \n",
      "6387  Pennsylvania State University-Penn State Great...     Malvern        PA   \n",
      "6388  Pennsylvania State University-Penn State Harri...  Middletown        PA   \n",
      "6389  Pennsylvania State University-Penn State Brand...       Media        PA   \n",
      "\n",
      "             ZIP  HIGHDEG  Control  ADM_RATE  ADM_RATE_ALL  SATVRMID  \\\n",
      "0          35762        4        1    0.7160      0.716006     475.0   \n",
      "1     35294-0110        4        1    0.8854      0.885352     637.0   \n",
      "2     36117-3553        4        2       NaN           NaN       NaN   \n",
      "3          35899        4        1    0.7367      0.736724     640.0   \n",
      "4     36104-0271        4        1    0.9799      0.979913     488.0   \n",
      "...          ...      ...      ...       ...           ...       ...   \n",
      "6385  18627-0217        0        1       NaN      0.922647       NaN   \n",
      "6386  17403-3326        0        1       NaN      0.922647       NaN   \n",
      "6387  19355-1488        0        1       NaN      0.922647       NaN   \n",
      "6388  17057-4846        0        1       NaN      0.922647       NaN   \n",
      "6389  19063-5522        0        1       NaN      0.922647       NaN   \n",
      "\n",
      "      SATMTMID  ...  ROOMBOARD_ON  OTHEREXPENSE_ON  ROOMBOARD_OFF  \\\n",
      "0        460.0  ...        9520.0           3090.0         9520.0   \n",
      "1        644.0  ...       12307.0           5555.0        12307.0   \n",
      "2          NaN  ...           NaN              NaN            NaN   \n",
      "3        655.0  ...       10764.0           4156.0        10764.0   \n",
      "4        457.0  ...        6050.0           3392.0         7320.0   \n",
      "...        ...  ...           ...              ...            ...   \n",
      "6385       NaN  ...           NaN              NaN            NaN   \n",
      "6386       NaN  ...           NaN              NaN            NaN   \n",
      "6387       NaN  ...           NaN              NaN            NaN   \n",
      "6388       NaN  ...           NaN              NaN            NaN   \n",
      "6389       NaN  ...           NaN              NaN            NaN   \n",
      "\n",
      "      OTHEREXPENSE_OFF  OTHEREXPENSE_FAM  ADMCON7  \\\n",
      "0               3090.0            3440.0      5.0   \n",
      "1               5555.0            5555.0      5.0   \n",
      "2                  NaN               NaN      NaN   \n",
      "3               4156.0            4156.0      1.0   \n",
      "4               5130.0            5130.0      5.0   \n",
      "...                ...               ...      ...   \n",
      "6385               NaN               NaN      NaN   \n",
      "6386               NaN               NaN      NaN   \n",
      "6387               NaN               NaN      NaN   \n",
      "6388               NaN               NaN      NaN   \n",
      "6389               NaN               NaN      NaN   \n",
      "\n",
      "      HD2022.Institution size category  HistoricallyBlack  \\\n",
      "0                        5,000 - 9,999                Yes   \n",
      "1                     20,000 and above                 No   \n",
      "2                          Under 1,000                 No   \n",
      "3                        5,000 - 9,999                 No   \n",
      "4                        1,000 - 4,999                Yes   \n",
      "...                                ...                ...   \n",
      "6385                       Under 1,000                 No   \n",
      "6386                       Under 1,000                 No   \n",
      "6387                       Under 1,000                 No   \n",
      "6388                     1,000 - 4,999                 No   \n",
      "6389                     1,000 - 4,999                 No   \n",
      "\n",
      "      StudentFacultyRatio  CurrentAdmissionsTestingPolicy  \n",
      "0                    19.0                   Test Optional  \n",
      "1                    18.0                   Test Optional  \n",
      "2                    12.0                   Test Optional  \n",
      "3                    17.0                   Test Optional  \n",
      "4                    14.0                   Test Optional  \n",
      "...                   ...                             ...  \n",
      "6385                 10.0                   Test Optional  \n",
      "6386                 11.0                   Test Optional  \n",
      "6387                  NaN                             NaN  \n",
      "6388                 14.0                   Test Optional  \n",
      "6389                 13.0                   Test Optional  \n",
      "\n",
      "[5851 rows x 64 columns]\n"
     ]
    }
   ],
   "source": [
    "# Get the path to the current folder\n",
    "current_folder = Path().cwd()\n",
    "\n",
    "# Import the two CSV files\n",
    "college_scorecard = pd.read_csv('CollegeScoreCard_2021_22.csv')\n",
    "ipeds_data = pd.read_csv('IPEDS Data 2022.csv')\n",
    "fairtest_data = pd.read_csv('FairTest_List.csv')[['InstitutionName', 'CurrentAdmissionsTestingPolicy']]\n",
    "\n",
    "# Merge the DataFrames on the InstitutionName column\n",
    "merged_data = pd.merge(college_scorecard, ipeds_data, on='InstitutionName', how='inner')\n",
    "merged_data = pd.merge(merged_data, fairtest_data, on='InstitutionName', how='left')\n",
    "\n",
    "# Drop duplicate rows based on the 'InstitutionName' column (keep the first occurrence)\n",
    "merged_data = merged_data.drop_duplicates(subset=['InstitutionName'], keep='first')\n",
    "\n",
    "# Display the DataFrame without duplicates\n",
    "print(merged_data)"
   ]
  },
  {
   "cell_type": "markdown",
   "metadata": {
    "cell_id": "6e16719818244f10bbc847bcbf22d6e1",
    "deepnote_cell_type": "markdown"
   },
   "source": [
    "## Combine and Merge Crime Rate Data"
   ]
  },
  {
   "cell_type": "code",
   "execution_count": 3,
   "metadata": {
    "cell_id": "16cb2e433d5940aca01949d9ade6d730",
    "deepnote_cell_type": "code"
   },
   "outputs": [
    {
     "name": "stdout",
     "output_type": "stream",
     "text": [
      "                       InstitutionName        City StateCode  population  \\\n",
      "0             Alabama A & M University      Normal        AL         NaN   \n",
      "1  University of Alabama at Birmingham  Birmingham        AL    213266.0   \n",
      "2                   Amridge University  Montgomery        AL    209018.0   \n",
      "3  University of Alabama in Huntsville  Huntsville        AL    183691.0   \n",
      "4             Alabama State University  Montgomery        AL    209018.0   \n",
      "\n",
      "   crime_rate_per_100k  \n",
      "0                  NaN  \n",
      "1           940.796939  \n",
      "2           630.615545  \n",
      "3          1215.628419  \n",
      "4           630.615545  \n",
      "                       InstitutionName        City StateCode         ZIP  \\\n",
      "0             Alabama A & M University      Normal        AL       35762   \n",
      "1  University of Alabama at Birmingham  Birmingham        AL  35294-0110   \n",
      "2                   Amridge University  Montgomery        AL  36117-3553   \n",
      "3  University of Alabama in Huntsville  Huntsville        AL       35899   \n",
      "4             Alabama State University  Montgomery        AL  36104-0271   \n",
      "\n",
      "   HIGHDEG  Control  ADM_RATE  ADM_RATE_ALL  SATVRMID  SATMTMID  ...  \\\n",
      "0        4        1    0.7160      0.716006     475.0     460.0  ...   \n",
      "1        4        1    0.8854      0.885352     637.0     644.0  ...   \n",
      "2        4        2       NaN           NaN       NaN       NaN  ...   \n",
      "3        4        1    0.7367      0.736724     640.0     655.0  ...   \n",
      "4        4        1    0.9799      0.979913     488.0     457.0  ...   \n",
      "\n",
      "   OTHEREXPENSE_FAM  ADMCON7  HD2022.Institution size category  \\\n",
      "0            3440.0      5.0                     5,000 - 9,999   \n",
      "1            5555.0      5.0                  20,000 and above   \n",
      "2               NaN      NaN                       Under 1,000   \n",
      "3            4156.0      1.0                     5,000 - 9,999   \n",
      "4            5130.0      5.0                     1,000 - 4,999   \n",
      "\n",
      "   HistoricallyBlack  StudentFacultyRatio  CurrentAdmissionsTestingPolicy  \\\n",
      "0                Yes                 19.0                   Test Optional   \n",
      "1                 No                 18.0                   Test Optional   \n",
      "2                 No                 12.0                   Test Optional   \n",
      "3                 No                 17.0                   Test Optional   \n",
      "4                Yes                 14.0                   Test Optional   \n",
      "\n",
      "   state_abbrev      cities  population  crime_rate_per_100k  \n",
      "0           NaN         NaN         NaN                  NaN  \n",
      "1            AL  Birmingham    213266.0           940.796939  \n",
      "2            AL  Montgomery    209018.0           630.615545  \n",
      "3            AL  Huntsville    183691.0          1215.628419  \n",
      "4            AL  Montgomery    209018.0           630.615545  \n",
      "\n",
      "[5 rows x 68 columns]\n"
     ]
    }
   ],
   "source": [
    "# File paths\n",
    "files = [\n",
    "    \"crime_40_60.csv\",\n",
    "    \"crime_60_100.csv\",\n",
    "    \"crime_100_250.csv\",\n",
    "    \"crime_250_plus.csv\"\n",
    "]\n",
    "\n",
    "# Import all files and concatenate into one DataFrame\n",
    "crime_dataframes = [pd.read_csv(file) for file in files]\n",
    "crime_data = pd.concat(crime_dataframes, ignore_index=True)\n",
    "\n",
    "# Dictionary of state names to abbreviations\n",
    "us_state_to_abbrev = {\n",
    "    \"Alabama\": \"AL\", \"Alaska\": \"AK\", \"Arizona\": \"AZ\", \"Arkansas\": \"AR\", \"California\": \"CA\",\n",
    "    \"Colorado\": \"CO\", \"Connecticut\": \"CT\", \"Delaware\": \"DE\", \"Florida\": \"FL\", \"Georgia\": \"GA\",\n",
    "    \"Hawaii\": \"HI\", \"Idaho\": \"ID\", \"Illinois\": \"IL\", \"Indiana\": \"IN\", \"Iowa\": \"IA\",\n",
    "    \"Kansas\": \"KS\", \"Kentucky\": \"KY\", \"Louisiana\": \"LA\", \"Maine\": \"ME\", \"Maryland\": \"MD\",\n",
    "    \"Massachusetts\": \"MA\", \"Michigan\": \"MI\", \"Minnesota\": \"MN\", \"Mississippi\": \"MS\",\n",
    "    \"Missouri\": \"MO\", \"Montana\": \"MT\", \"Nebraska\": \"NE\", \"Nevada\": \"NV\", \"New Hampshire\": \"NH\",\n",
    "    \"New Jersey\": \"NJ\", \"New Mexico\": \"NM\", \"New York\": \"NY\", \"North Carolina\": \"NC\",\n",
    "    \"North Dakota\": \"ND\", \"Ohio\": \"OH\", \"Oklahoma\": \"OK\", \"Oregon\": \"OR\", \"Pennsylvania\": \"PA\",\n",
    "    \"Rhode Island\": \"RI\", \"South Carolina\": \"SC\", \"South Dakota\": \"SD\", \"Tennessee\": \"TN\",\n",
    "    \"Texas\": \"TX\", \"Utah\": \"UT\", \"Vermont\": \"VT\", \"Virginia\": \"VA\", \"Washington\": \"WA\",\n",
    "    \"West Virginia\": \"WV\", \"Wisconsin\": \"WI\", \"Wyoming\": \"WY\", \"District of Columbia\": \"DC\",\n",
    "    \"American Samoa\": \"AS\", \"Guam\": \"GU\", \"Northern Mariana Islands\": \"MP\", \"Puerto Rico\": \"PR\",\n",
    "    \"United States Minor Outlying Islands\": \"UM\", \"Virgin Islands, U.S.\": \"VI\"\n",
    "}\n",
    "\n",
    "# Convert full state names to abbreviations\n",
    "def convert_state_to_abbrev(state_name):\n",
    "    \"\"\"Converts a full state name to its abbreviation.\"\"\"\n",
    "    return us_state_to_abbrev.get(state_name, state_name)  # Keeps the original name if not found\n",
    "\n",
    "# Apply the conversion\n",
    "crime_data['state_abbrev'] = crime_data['states'].apply(convert_state_to_abbrev)\n",
    "\n",
    "# List of columns to exclude from conversion\n",
    "exclude_columns = ['states', 'cities', 'state_abbrev']\n",
    "\n",
    "# Remove commas from the population column\n",
    "crime_data['population'] = crime_data['population'].str.replace(',', '', regex=False)\n",
    "\n",
    "# Select all columns except for the ones in 'exclude_columns' and convert them to numeric\n",
    "crime_data = crime_data.apply(lambda x: pd.to_numeric(x, errors='coerce') if x.name not in exclude_columns else x)\n",
    "\n",
    "# List of columns that represent different types of crimes\n",
    "crime_columns = ['violent_crime', 'murder', 'rape', 'robbery', 'agrv_assault',\n",
    "                 'prop_crime', 'burglary', 'larceny', 'vehicle_theft', 'arson']\n",
    "\n",
    "# Calculate total crime as the sum of the crime-related columns\n",
    "crime_data['total_crime'] = crime_data[crime_columns].sum(axis=1)\n",
    "\n",
    "# Add a new column for the crime rate per 100,000 residents\n",
    "crime_data['crime_rate_per_100k'] = (crime_data['total_crime'] / crime_data['population']) * 100_000\n",
    "\n",
    "# Only keep the necessary columns\n",
    "crime_data = crime_data[['state_abbrev', 'cities', 'population', 'crime_rate_per_100k']]\n",
    "\n",
    "# Merge the two DataFrames on 'City' and 'StateCode' (which matches with 'cities' and 'state_abbrev')\n",
    "merged_with_crime = pd.merge(merged_data, crime_data, \n",
    "                             left_on=['City', 'StateCode'], \n",
    "                             right_on=['cities', 'state_abbrev'], \n",
    "                             how='left')\n",
    "\n",
    "# Display the resulting DataFrame with the crime rate information\n",
    "print(merged_with_crime[['InstitutionName', 'City', 'StateCode', 'population', 'crime_rate_per_100k']].head())\n",
    "\n",
    "# Display the merged DataFrame\n",
    "print(merged_with_crime.head())"
   ]
  },
  {
   "cell_type": "markdown",
   "metadata": {
    "cell_id": "f40953ace14c4114a40faba1be7a583f",
    "deepnote_cell_type": "markdown"
   },
   "source": [
    "## Merge Cost of Living Data"
   ]
  },
  {
   "cell_type": "code",
   "execution_count": 4,
   "metadata": {
    "cell_id": "4eea90bffe3244658bbb2aa447c218b5",
    "deepnote_cell_type": "code"
   },
   "outputs": [
    {
     "name": "stdout",
     "output_type": "stream",
     "text": [
      "                       InstitutionName        City StateCode         ZIP  \\\n",
      "0             Alabama A & M University      Normal        AL       35762   \n",
      "1  University of Alabama at Birmingham  Birmingham        AL  35294-0110   \n",
      "2                   Amridge University  Montgomery        AL  36117-3553   \n",
      "3  University of Alabama in Huntsville  Huntsville        AL       35899   \n",
      "4             Alabama State University  Montgomery        AL  36104-0271   \n",
      "\n",
      "   HIGHDEG  Control  ADM_RATE  ADM_RATE_ALL  SATVRMID  SATMTMID  ...  \\\n",
      "0        4        1    0.7160      0.716006     475.0     460.0  ...   \n",
      "1        4        1    0.8854      0.885352     637.0     644.0  ...   \n",
      "2        4        2       NaN           NaN       NaN       NaN  ...   \n",
      "3        4        1    0.7367      0.736724     640.0     655.0  ...   \n",
      "4        4        1    0.9799      0.979913     488.0     457.0  ...   \n",
      "\n",
      "   HD2022.Institution size category  HistoricallyBlack  StudentFacultyRatio  \\\n",
      "0                     5,000 - 9,999                Yes                 19.0   \n",
      "1                  20,000 and above                 No                 18.0   \n",
      "2                       Under 1,000                 No                 12.0   \n",
      "3                     5,000 - 9,999                 No                 17.0   \n",
      "4                     1,000 - 4,999                Yes                 14.0   \n",
      "\n",
      "   CurrentAdmissionsTestingPolicy  state_abbrev      cities  population  \\\n",
      "0                   Test Optional           NaN         NaN         NaN   \n",
      "1                   Test Optional            AL  Birmingham    213266.0   \n",
      "2                   Test Optional            AL  Montgomery    209018.0   \n",
      "3                   Test Optional            AL  Huntsville    183691.0   \n",
      "4                   Test Optional            AL  Montgomery    209018.0   \n",
      "\n",
      "   crime_rate_per_100k  State  Cost of Living Index  \n",
      "0                  NaN    NaN                   NaN  \n",
      "1           940.796939     AL                  90.7  \n",
      "2           630.615545     AL                  88.5  \n",
      "3          1215.628419     AL                  91.3  \n",
      "4           630.615545     AL                  88.5  \n",
      "\n",
      "[5 rows x 70 columns]\n"
     ]
    }
   ],
   "source": [
    "#### Cost of Living ####\n",
    "# Step 1: Import the advisorsmith_cost_of_living_index.csv file\n",
    "cost_of_living_df = pd.read_csv('advisorsmith_cost_of_living_index.csv')\n",
    "\n",
    "# Step 2: Merge the cost of living data with the merged_with_crime DataFrame\n",
    "merged_final = pd.merge(merged_with_crime, cost_of_living_df, \n",
    "                       how='left', \n",
    "                       left_on=['City', 'StateCode'], \n",
    "                       right_on=['City', 'State'])\n",
    "\n",
    "# Step 3: Check the result\n",
    "print(merged_final.head())\n",
    "########################"
   ]
  },
  {
   "cell_type": "markdown",
   "metadata": {
    "cell_id": "c3ad2c4cc9314dbfbfb244bb83b4cee4",
    "deepnote_cell_type": "markdown"
   },
   "source": [
    "## Data Imputation & Transformation"
   ]
  },
  {
   "cell_type": "code",
   "execution_count": 5,
   "metadata": {
    "cell_id": "404041ac002a4a4582f20f6ba72a1ea0",
    "deepnote_cell_type": "code"
   },
   "outputs": [],
   "source": [
    "# Filter out non-degree offering institutions\n",
    "merged_final = merged_final[merged_final['HIGHDEG'] > 1]"
   ]
  },
  {
   "cell_type": "markdown",
   "metadata": {
    "cell_id": "b21e09c6d8d147ad823925e688d8aa68",
    "deepnote_cell_type": "markdown"
   },
   "source": [
    "### Institution Size "
   ]
  },
  {
   "cell_type": "code",
   "execution_count": 6,
   "metadata": {
    "cell_id": "0f17cefbb9c945dd99b05563af0baa86",
    "deepnote_cell_type": "code"
   },
   "outputs": [
    {
     "name": "stdout",
     "output_type": "stream",
     "text": [
      "                          InstitutionName   InstitutionSize  SizeBin\n",
      "0                Alabama A & M University     5,000 - 9,999        3\n",
      "1     University of Alabama at Birmingham  20,000 and above        5\n",
      "2                      Amridge University       Under 1,000        1\n",
      "3     University of Alabama in Huntsville     5,000 - 9,999        3\n",
      "4                Alabama State University     1,000 - 4,999        2\n",
      "...                                   ...               ...      ...\n",
      "5798           Florida Academy of Nursing       Under 1,000        1\n",
      "5800                  Lakewood University       Under 1,000        1\n",
      "5813             Madera Community College     5,000 - 9,999        3\n",
      "5821            Great Northern University       Under 1,000        1\n",
      "5824             Arizona College-Glendale       Under 1,000        1\n",
      "\n",
      "[3827 rows x 3 columns]\n"
     ]
    }
   ],
   "source": [
    "# Replace 'Not applicable' and 'Not reported' with NaN\n",
    "merged_final['InstitutionSize'] = merged_final['HD2022.Institution size category'].replace(\n",
    "    ['Not applicable', 'Not reported'], np.nan\n",
    ")\n",
    "\n",
    "# Define a mapping dictionary for binning\n",
    "size_mapping = {\n",
    "    'Under 1,000': 1,\n",
    "    '1,000 - 4,999': 2,\n",
    "    '5,000 - 9,999': 3,\n",
    "    '10,000 - 19,999': 4,\n",
    "    '20,000 and above': 5\n",
    "}\n",
    "\n",
    "# Map the size categories to numerical bins\n",
    "merged_final['SizeBin'] = merged_final['InstitutionSize'].map(size_mapping).astype(pd.Int64Dtype())\n",
    "\n",
    "# Display the updated dataframe\n",
    "print(merged_final[merged_final['SizeBin'].notna()][['InstitutionName', 'InstitutionSize', 'SizeBin']])"
   ]
  },
  {
   "cell_type": "markdown",
   "metadata": {
    "cell_id": "aafcb45a63344582962f964d2fae4d48",
    "deepnote_cell_type": "markdown"
   },
   "source": [
    "### Test Optionality"
   ]
  },
  {
   "cell_type": "code",
   "execution_count": 7,
   "metadata": {
    "cell_id": "48f3c59e5f1e4a13957ce4a64275beb5",
    "deepnote_cell_type": "code"
   },
   "outputs": [
    {
     "name": "stdout",
     "output_type": "stream",
     "text": [
      "                          InstitutionName  TestOptional\n",
      "0                Alabama A & M University             1\n",
      "1     University of Alabama at Birmingham             1\n",
      "2                      Amridge University             1\n",
      "3     University of Alabama in Huntsville             1\n",
      "4                Alabama State University             1\n",
      "...                                   ...           ...\n",
      "5798           Florida Academy of Nursing             0\n",
      "5800                  Lakewood University             0\n",
      "5813             Madera Community College             0\n",
      "5821            Great Northern University             1\n",
      "5824             Arizona College-Glendale             0\n",
      "\n",
      "[3857 rows x 2 columns]\n"
     ]
    }
   ],
   "source": [
    "# Convert CurrentAdmissionsTestingPolicy to TestOptional\n",
    "merged_final['TestOptional'] = merged_final['CurrentAdmissionsTestingPolicy'].apply(lambda x: 1 if x in ['Test Optional', 'Test Free'] else 0)\n",
    "\n",
    "# Display the updated DataFrame\n",
    "print(merged_final[['InstitutionName', 'TestOptional']])"
   ]
  },
  {
   "cell_type": "markdown",
   "metadata": {
    "cell_id": "e482d1e4cd884330a31a994b302bd544",
    "deepnote_cell_type": "markdown"
   },
   "source": [
    "### Selectivity"
   ]
  },
  {
   "cell_type": "code",
   "execution_count": 8,
   "metadata": {
    "cell_id": "bc40585f291542e4b44d9a9439f717f6",
    "deepnote_cell_type": "code"
   },
   "outputs": [
    {
     "name": "stdout",
     "output_type": "stream",
     "text": [
      "                          InstitutionName  ADM_RATE_ALL  SelectivityBin\n",
      "0                Alabama A & M University      0.716006               4\n",
      "1     University of Alabama at Birmingham      0.885352               2\n",
      "3     University of Alabama in Huntsville      0.736724               3\n",
      "4                Alabama State University      0.979913               1\n",
      "5               The University of Alabama      0.789043               3\n",
      "...                                   ...           ...             ...\n",
      "5785                  Daybreak University      0.014241               5\n",
      "5792     California Northstate University      0.954819               1\n",
      "5798           Florida Academy of Nursing      0.308848               5\n",
      "5821            Great Northern University      1.000000               1\n",
      "5824             Arizona College-Glendale      0.993776               1\n",
      "\n",
      "[1864 rows x 3 columns]\n"
     ]
    }
   ],
   "source": [
    "# Separate non-NaN values for binning\n",
    "non_nan_data = merged_final['ADM_RATE_ALL'].dropna()\n",
    "\n",
    "# Perform quantile-based binning on non-NaN values\n",
    "selectivity_binned = pd.qcut(\n",
    "    non_nan_data,\n",
    "    q=5,  # Number of quantiles (bins)\n",
    "    labels=[5, 4, 3, 2, 1]  # Assign labels, 5 = most selective, 1 = least selective\n",
    ")\n",
    "\n",
    "# Create a copy of the binned data to preserve indices\n",
    "selectivity_binned_with_indices = pd.Series(selectivity_binned, index=non_nan_data.index)\n",
    "\n",
    "# Assign binned values back to the original DataFrame\n",
    "merged_final['SelectivityBin'] = selectivity_binned_with_indices\n",
    "\n",
    "# Convert labels to integers while keeping NaN intact\n",
    "merged_final['SelectivityBin'] = merged_final['SelectivityBin'].astype(pd.Int64Dtype())\n",
    "\n",
    "# Display institutions with non-NaN Selectivity\n",
    "print(merged_final[merged_final['SelectivityBin'].notna()][['InstitutionName', 'ADM_RATE_ALL', 'SelectivityBin']])\n"
   ]
  },
  {
   "cell_type": "markdown",
   "metadata": {
    "cell_id": "de49f4fc2b14419fa5476b77e0ce8892",
    "deepnote_cell_type": "markdown"
   },
   "source": [
    "### Tuition"
   ]
  },
  {
   "cell_type": "code",
   "execution_count": 9,
   "metadata": {
    "cell_id": "47b15f4edf6a41f885dc185c927c2350",
    "deepnote_cell_type": "code"
   },
   "outputs": [
    {
     "name": "stdout",
     "output_type": "stream",
     "text": [
      "                          InstitutionName  TUITIONFEE_OUT  TuitionBin\n",
      "0                Alabama A & M University         18634.0           3\n",
      "1     University of Alabama at Birmingham         20400.0           4\n",
      "3     University of Alabama in Huntsville         23884.0           4\n",
      "4                Alabama State University         19396.0           4\n",
      "5               The University of Alabama         31090.0           4\n",
      "...                                   ...             ...         ...\n",
      "5747    California Indian Nations College          7743.0           1\n",
      "5763    The Pennsylvania State University         36476.0           5\n",
      "5792     California Northstate University         49793.0           5\n",
      "5821            Great Northern University         15600.0           3\n",
      "5824             Arizona College-Glendale         18334.0           3\n",
      "\n",
      "[1797 rows x 3 columns]\n"
     ]
    }
   ],
   "source": [
    "# Separate non-NaN values for binning\n",
    "non_nan_tuition = merged_final['TUITIONFEE_OUT'].dropna()\n",
    "\n",
    "# Perform quantile-based binning on non-NaN values\n",
    "tuition_binned = pd.qcut(\n",
    "    non_nan_tuition,\n",
    "    q=5,  # Number of quantiles (bins)\n",
    "    labels=[1, 2, 3, 4, 5]  # Assign labels, 1 = cheapest, 5 = most expensive\n",
    ")\n",
    "\n",
    "# Create a copy of the binned data to preserve indices1\n",
    "tuition_binned_with_indices = pd.Series(tuition_binned, index=non_nan_data.index)\n",
    "\n",
    "# Assign binned values back to the original DataFrame\n",
    "merged_final['TuitionBin'] = tuition_binned_with_indices\n",
    "\n",
    "# Convert labels to integers, keeping NaN intact\n",
    "merged_final['TuitionBin'] = merged_final['TuitionBin'].astype(pd.Int64Dtype())\n",
    "\n",
    "# Display the updated DataFrame\n",
    "print(merged_final[merged_final['TuitionBin'].notna()][['InstitutionName', 'TUITIONFEE_OUT', 'TuitionBin']])"
   ]
  },
  {
   "cell_type": "markdown",
   "metadata": {
    "cell_id": "baa0157ee7bd47cabe9913c78b162d0f",
    "deepnote_cell_type": "markdown"
   },
   "source": [
    "### CrimeRate"
   ]
  },
  {
   "cell_type": "code",
   "execution_count": 10,
   "metadata": {
    "cell_id": "1eac93c78d96403b807e987370823d33",
    "deepnote_cell_type": "code"
   },
   "outputs": [
    {
     "name": "stdout",
     "output_type": "stream",
     "text": [
      "                          InstitutionName  crime_rate_per_100k  CrimeRateBin\n",
      "1     University of Alabama at Birmingham           940.796939             1\n",
      "2                      Amridge University           630.615545             1\n",
      "3     University of Alabama in Huntsville          1215.628419             2\n",
      "4                Alabama State University           630.615545             1\n",
      "5               The University of Alabama          1368.771270             3\n",
      "...                                   ...                  ...           ...\n",
      "5798           Florida Academy of Nursing          1358.672360             3\n",
      "5800                  Lakewood University         17344.245100             5\n",
      "5813             Madera Community College          4818.300529             4\n",
      "5821            Great Northern University          1073.655633             2\n",
      "5824             Arizona College-Glendale           647.304472             1\n",
      "\n",
      "[1131 rows x 3 columns]\n"
     ]
    }
   ],
   "source": [
    "# Drop NaN values from the 'crime_rate_per_100k' column\n",
    "non_nan_crime_rate = merged_final['crime_rate_per_100k'].dropna()\n",
    "\n",
    "# Perform quantile-based binning on non-NaN values\n",
    "crime_binned = pd.qcut(\n",
    "    non_nan_crime_rate,\n",
    "    q=5,  # Number of quantiles (bins)\n",
    "    labels=[1, 2, 3, 4, 5]  # Assign labels, 1 = lowest crime rate, 5 = highest crime rate\n",
    ")\n",
    "\n",
    "# Create a copy of the binned data to preserve indices\n",
    "crime_binned_with_indices = pd.Series(crime_binned, index=non_nan_crime_rate.index)\n",
    "\n",
    "# Assign binned values back to the original DataFrame\n",
    "merged_final['CrimeRateBin'] = crime_binned_with_indices\n",
    "\n",
    "# Convert labels to integers while keeping NaN intact\n",
    "merged_final['CrimeRateBin'] = merged_final['CrimeRateBin'].astype(pd.Int64Dtype())\n",
    "\n",
    "# Display the updated DataFrame for non-NaN bins\n",
    "print(merged_final[merged_final['CrimeRateBin'].notna()][['InstitutionName', 'crime_rate_per_100k', 'CrimeRateBin']])\n"
   ]
  },
  {
   "cell_type": "markdown",
   "metadata": {
    "cell_id": "b644f19e6b1840a8a0630ad5b78365a8",
    "deepnote_cell_type": "markdown"
   },
   "source": [
    "### Population"
   ]
  },
  {
   "cell_type": "code",
   "execution_count": 11,
   "metadata": {
    "cell_id": "557587fab86b4e04ab590af8dc32dca7",
    "deepnote_cell_type": "code"
   },
   "outputs": [
    {
     "name": "stdout",
     "output_type": "stream",
     "text": [
      "                          InstitutionName  population  PopulationBin\n",
      "1     University of Alabama at Birmingham    213266.0              5\n",
      "2                      Amridge University    209018.0              5\n",
      "3     University of Alabama in Huntsville    183691.0              5\n",
      "4                Alabama State University    209018.0              5\n",
      "5               The University of Alabama     91973.0              3\n",
      "...                                   ...         ...            ...\n",
      "5798           Florida Academy of Nursing    125998.0              4\n",
      "5800                  Lakewood University     45761.0              1\n",
      "5813             Madera Community College     62796.0              2\n",
      "5821            Great Northern University    212163.0              5\n",
      "5824             Arizona College-Glendale    232997.0              5\n",
      "\n",
      "[1131 rows x 3 columns]\n"
     ]
    }
   ],
   "source": [
    "# Drop NaN values from the 'population' column\n",
    "non_nan_population = merged_final['population'].dropna()\n",
    "\n",
    "# Perform quantile-based binning on non-NaN values\n",
    "population_binned = pd.qcut(\n",
    "    non_nan_population,\n",
    "    q=5,  # Number of quantiles (bins)\n",
    "    labels=[1, 2, 3, 4, 5]  # Assign labels, 1 = smallest population, 5 = largest population\n",
    ")\n",
    "\n",
    "# Create a copy of the binned data to preserve indices\n",
    "population_binned_with_indices = pd.Series(population_binned, index=non_nan_population.index)\n",
    "\n",
    "# Assign binned values back to the original DataFrame\n",
    "merged_final['PopulationBin'] = population_binned_with_indices\n",
    "\n",
    "# Convert labels to integers while keeping NaN intact\n",
    "merged_final['PopulationBin'] = merged_final['PopulationBin'].astype(pd.Int64Dtype())\n",
    "\n",
    "# Display the updated DataFrame for non-NaN bins\n",
    "print(merged_final[merged_final['PopulationBin'].notna()][['InstitutionName', 'population', 'PopulationBin']])\n"
   ]
  },
  {
   "cell_type": "markdown",
   "metadata": {
    "cell_id": "f4a26b1bffc6425ca9b53982b9b712de",
    "deepnote_cell_type": "markdown"
   },
   "source": [
    "### Cost of Living"
   ]
  },
  {
   "cell_type": "code",
   "execution_count": 12,
   "metadata": {
    "cell_id": "c736e137181b4987bc6d401de3ae7868",
    "deepnote_cell_type": "code"
   },
   "outputs": [
    {
     "name": "stdout",
     "output_type": "stream",
     "text": [
      "                             InstitutionName  Cost of Living Index  \\\n",
      "1        University of Alabama at Birmingham                  90.7   \n",
      "2                         Amridge University                  88.5   \n",
      "3        University of Alabama in Huntsville                  91.3   \n",
      "4                   Alabama State University                  88.5   \n",
      "5                  The University of Alabama                  91.0   \n",
      "...                                      ...                   ...   \n",
      "5772  San Joaquin Valley College-Santa Maria                 143.0   \n",
      "5779              Triangle Tech-Chambersburg                  95.7   \n",
      "5784   Agape College of Business and Science                 105.9   \n",
      "5813                Madera Community College                 108.9   \n",
      "5821               Great Northern University                 100.4   \n",
      "\n",
      "      LivingCostBin  \n",
      "1                 2  \n",
      "2                 1  \n",
      "3                 2  \n",
      "4                 1  \n",
      "5                 2  \n",
      "...             ...  \n",
      "5772              5  \n",
      "5779              3  \n",
      "5784              4  \n",
      "5813              4  \n",
      "5821              4  \n",
      "\n",
      "[1622 rows x 3 columns]\n"
     ]
    }
   ],
   "source": [
    "# Drop NaN values from the 'cost of living' column\n",
    "non_nan_livingcost = merged_final['Cost of Living Index'].dropna()\n",
    "\n",
    "# Perform quantile-based binning on non-NaN values\n",
    "livingcost_binned = pd.qcut(\n",
    "    non_nan_livingcost,\n",
    "    q=5,  # Number of quantiles (bins)\n",
    "    labels=[1, 2, 3, 4, 5]  # Assign labels, 1 = smallest population, 5 = largest population\n",
    ")\n",
    "\n",
    "# Create a copy of the binned data to preserve indices\n",
    "livingcost_binned_with_indices = pd.Series(livingcost_binned, index=non_nan_livingcost.index)\n",
    "\n",
    "# Assign binned values back to the original DataFrame\n",
    "merged_final['LivingCostBin'] = livingcost_binned_with_indices\n",
    "\n",
    "# Convert labels to integers while keeping NaN intact\n",
    "merged_final['LivingCostBin'] = merged_final['LivingCostBin'].astype(pd.Int64Dtype())\n",
    "\n",
    "# Display the updated DataFrame for non-NaN bins\n",
    "print(merged_final[merged_final['LivingCostBin'].notna()][['InstitutionName', 'Cost of Living Index', 'LivingCostBin']])\n"
   ]
  },
  {
   "cell_type": "markdown",
   "metadata": {
    "cell_id": "1de7d2c6439e4ba29bd7433fc4480ebb",
    "deepnote_cell_type": "markdown"
   },
   "source": [
    "### Diversity Index"
   ]
  },
  {
   "cell_type": "code",
   "execution_count": 13,
   "metadata": {},
   "outputs": [
    {
     "name": "stdout",
     "output_type": "stream",
     "text": [
      "                          InstitutionName  DiversityIndex\n",
      "0                Alabama A & M University        0.191065\n",
      "1     University of Alabama at Birmingham        0.646258\n",
      "2                      Amridge University        0.456386\n",
      "3     University of Alabama in Huntsville        0.466858\n",
      "4                Alabama State University        0.142003\n",
      "...                                   ...             ...\n",
      "5798           Florida Academy of Nursing        0.290291\n",
      "5800                  Lakewood University        0.567570\n",
      "5813             Madera Community College        0.528243\n",
      "5821            Great Northern University        0.289600\n",
      "5824             Arizona College-Glendale        0.664906\n",
      "\n",
      "[3857 rows x 2 columns]\n"
     ]
    }
   ],
   "source": [
    "# Define the columns corresponding to racial shares\n",
    "racial_columns = ['UGDS_WHITE', 'UGDS_BLACK', 'UGDS_HISP', 'UGDS_ASIAN', 'UGDS_AIAN', 'UGDS_NHPI', 'UGDS_2MOR', 'UGDS_UNKN']\n",
    "\n",
    "# Calculate the Gini-Simpson Index for each row\n",
    "def calculate_gini_simpson(row):\n",
    "    # Filter out NaN values and calculate the squared proportions\n",
    "    proportions = row[racial_columns].dropna()\n",
    "    squared_proportions = proportions ** 2\n",
    "    diversity_index = 1 - squared_proportions.sum()\n",
    "    return diversity_index\n",
    "\n",
    "# Apply the function to each row of the dataframe and create a new column\n",
    "merged_final['DiversityIndex'] = merged_final.apply(calculate_gini_simpson, axis=1)\n",
    "\n",
    "# Display the updated dataframe with the new DiversityIndex\n",
    "print(merged_final[merged_final['DiversityIndex'].notna()][['InstitutionName', 'DiversityIndex']])"
   ]
  },
  {
   "cell_type": "code",
   "execution_count": 14,
   "metadata": {
    "cell_id": "8501713136d84f58a4eeaa69907d91bb",
    "deepnote_cell_type": "code"
   },
   "outputs": [
    {
     "name": "stdout",
     "output_type": "stream",
     "text": [
      "                          InstitutionName  DiversityIndex  DiversityIndexBin\n",
      "0                Alabama A & M University        0.191065                  1\n",
      "1     University of Alabama at Birmingham        0.646258                  4\n",
      "2                      Amridge University        0.456386                  2\n",
      "3     University of Alabama in Huntsville        0.466858                  2\n",
      "4                Alabama State University        0.142003                  1\n",
      "...                                   ...             ...                ...\n",
      "5798           Florida Academy of Nursing        0.290291                  1\n",
      "5800                  Lakewood University        0.567570                  3\n",
      "5813             Madera Community College        0.528243                  2\n",
      "5821            Great Northern University        0.289600                  1\n",
      "5824             Arizona College-Glendale        0.664906                  4\n",
      "\n",
      "[3857 rows x 3 columns]\n"
     ]
    }
   ],
   "source": [
    "# Separate non-NaN values for binning\n",
    "non_nan_diversity = merged_final['DiversityIndex'].dropna()\n",
    "\n",
    "# Perform quantile-based binning on non-NaN values (5 bins)\n",
    "diversity_binned = pd.qcut(\n",
    "    non_nan_diversity,\n",
    "    q=5,  # Number of quantiles (bins)\n",
    "    labels=[1, 2, 3, 4, 5]  # Assign labels, 1 = lowest diversity, 5 = highest diversity\n",
    ")\n",
    "\n",
    "# Create a copy of the binned data to preserve indices\n",
    "diversity_binned_with_indices = pd.Series(diversity_binned, index=non_nan_diversity.index)\n",
    "\n",
    "# Assign binned values back to the original DataFrame\n",
    "merged_final['DiversityIndexBin'] = diversity_binned_with_indices\n",
    "\n",
    "# Convert labels to integers, keeping NaN intact\n",
    "merged_final['DiversityIndexBin'] = merged_final['DiversityIndexBin'].astype(pd.Int64Dtype())\n",
    "\n",
    "# Display the updated DataFrame\n",
    "print(merged_final[merged_final['DiversityIndexBin'].notna()][['InstitutionName', 'DiversityIndex', 'DiversityIndexBin']])\n"
   ]
  },
  {
   "cell_type": "markdown",
   "metadata": {},
   "source": [
    "### Student to Faculty Ratio"
   ]
  },
  {
   "cell_type": "code",
   "execution_count": 15,
   "metadata": {},
   "outputs": [
    {
     "name": "stdout",
     "output_type": "stream",
     "text": [
      "                             InstitutionName  StudentFacultyRatio  \\\n",
      "1        University of Alabama at Birmingham                 18.0   \n",
      "2                         Amridge University                 12.0   \n",
      "3        University of Alabama in Huntsville                 17.0   \n",
      "4                   Alabama State University                 14.0   \n",
      "5                  The University of Alabama                 19.0   \n",
      "...                                      ...                  ...   \n",
      "5772  San Joaquin Valley College-Santa Maria                 18.0   \n",
      "5779              Triangle Tech-Chambersburg                  9.0   \n",
      "5784   Agape College of Business and Science                  7.0   \n",
      "5813                Madera Community College                 31.0   \n",
      "5821               Great Northern University                  2.0   \n",
      "\n",
      "      StudentFacultyRatioBin  \n",
      "1                          1  \n",
      "2                          1  \n",
      "3                          1  \n",
      "4                          1  \n",
      "5                          1  \n",
      "...                      ...  \n",
      "5772                       3  \n",
      "5779                       2  \n",
      "5784                       3  \n",
      "5813                       3  \n",
      "5821                       2  \n",
      "\n",
      "[1468 rows x 3 columns]\n"
     ]
    }
   ],
   "source": [
    "# Drop NaN values from the 'cost of living' column\n",
    "non_nan_stufacratio = merged_final['StudentFacultyRatio'].dropna()\n",
    "\n",
    "# Perform quantile-based binning on non-NaN values\n",
    "stufacratio_binned = pd.qcut(\n",
    "    non_nan_livingcost,\n",
    "    q=3,  # Number of quantiles (bins)\n",
    "    labels=[1, 2, 3]  # Assign labels, 1 = smallest ratio, 3 = largest ratio\n",
    ")\n",
    "\n",
    "# Create a copy of the binned data to preserve indices\n",
    "stufacratio_binned_with_indices = pd.Series(stufacratio_binned, index=non_nan_stufacratio.index)\n",
    "\n",
    "# Assign binned values back to the original DataFrame\n",
    "merged_final['StudentFacultyRatioBin'] = stufacratio_binned_with_indices\n",
    "\n",
    "# Convert labels to integers while keeping NaN intact\n",
    "merged_final['StudentFacultyRatioBin'] = merged_final['StudentFacultyRatioBin'].astype(pd.Int64Dtype())\n",
    "\n",
    "# Display the updated DataFrame for non-NaN bins\n",
    "print(merged_final[merged_final['StudentFacultyRatioBin'].notna()][['InstitutionName', 'StudentFacultyRatio', 'StudentFacultyRatioBin']])\n"
   ]
  },
  {
   "cell_type": "markdown",
   "metadata": {
    "cell_id": "c67b70d6ab46423da01d458c1c2280fc",
    "deepnote_cell_type": "markdown"
   },
   "source": [
    "## Export"
   ]
  },
  {
   "cell_type": "code",
   "execution_count": 16,
   "metadata": {
    "cell_id": "7aafe86073fb4233afcccc22aa711031",
    "deepnote_cell_type": "code"
   },
   "outputs": [],
   "source": [
    "### Save the merged data to a new file \n",
    "merged_final.to_csv(current_folder / 'Merged_Data.csv', index=False)"
   ]
  },
  {
   "cell_type": "code",
   "execution_count": 17,
   "metadata": {
    "cell_id": "9728f1a1311b4d258ecfccd0a502554d",
    "deepnote_cell_type": "code"
   },
   "outputs": [
    {
     "data": {
      "text/html": [
       "<div>\n",
       "<style scoped>\n",
       "    .dataframe tbody tr th:only-of-type {\n",
       "        vertical-align: middle;\n",
       "    }\n",
       "\n",
       "    .dataframe tbody tr th {\n",
       "        vertical-align: top;\n",
       "    }\n",
       "\n",
       "    .dataframe thead th {\n",
       "        text-align: right;\n",
       "    }\n",
       "</style>\n",
       "<table border=\"1\" class=\"dataframe\">\n",
       "  <thead>\n",
       "    <tr style=\"text-align: right;\">\n",
       "      <th></th>\n",
       "      <th>InstitutionName</th>\n",
       "      <th>StateCode</th>\n",
       "      <th>Control</th>\n",
       "      <th>SizeBin</th>\n",
       "      <th>SelectivityBin</th>\n",
       "      <th>StudentFacultyRatioBin</th>\n",
       "      <th>TestOptional</th>\n",
       "      <th>SATVRMID</th>\n",
       "      <th>SATMTMID</th>\n",
       "      <th>ACTMTMID</th>\n",
       "      <th>ACTENMID</th>\n",
       "      <th>TuitionBin</th>\n",
       "      <th>LivingCostBin</th>\n",
       "      <th>CrimeRateBin</th>\n",
       "      <th>DiversityIndexBin</th>\n",
       "      <th>PopulationBin</th>\n",
       "    </tr>\n",
       "  </thead>\n",
       "  <tbody>\n",
       "    <tr>\n",
       "      <th>0</th>\n",
       "      <td>Alabama A &amp; M University</td>\n",
       "      <td>AL</td>\n",
       "      <td>1</td>\n",
       "      <td>3</td>\n",
       "      <td>4</td>\n",
       "      <td>&lt;NA&gt;</td>\n",
       "      <td>1</td>\n",
       "      <td>475.0</td>\n",
       "      <td>460.0</td>\n",
       "      <td>17.0</td>\n",
       "      <td>17.0</td>\n",
       "      <td>3</td>\n",
       "      <td>&lt;NA&gt;</td>\n",
       "      <td>&lt;NA&gt;</td>\n",
       "      <td>1</td>\n",
       "      <td>&lt;NA&gt;</td>\n",
       "    </tr>\n",
       "    <tr>\n",
       "      <th>1</th>\n",
       "      <td>University of Alabama at Birmingham</td>\n",
       "      <td>AL</td>\n",
       "      <td>1</td>\n",
       "      <td>5</td>\n",
       "      <td>2</td>\n",
       "      <td>1</td>\n",
       "      <td>1</td>\n",
       "      <td>637.0</td>\n",
       "      <td>644.0</td>\n",
       "      <td>25.0</td>\n",
       "      <td>28.0</td>\n",
       "      <td>4</td>\n",
       "      <td>2</td>\n",
       "      <td>1</td>\n",
       "      <td>4</td>\n",
       "      <td>5</td>\n",
       "    </tr>\n",
       "    <tr>\n",
       "      <th>2</th>\n",
       "      <td>Amridge University</td>\n",
       "      <td>AL</td>\n",
       "      <td>2</td>\n",
       "      <td>1</td>\n",
       "      <td>&lt;NA&gt;</td>\n",
       "      <td>1</td>\n",
       "      <td>1</td>\n",
       "      <td>NaN</td>\n",
       "      <td>NaN</td>\n",
       "      <td>NaN</td>\n",
       "      <td>NaN</td>\n",
       "      <td>&lt;NA&gt;</td>\n",
       "      <td>1</td>\n",
       "      <td>1</td>\n",
       "      <td>2</td>\n",
       "      <td>5</td>\n",
       "    </tr>\n",
       "    <tr>\n",
       "      <th>3</th>\n",
       "      <td>University of Alabama in Huntsville</td>\n",
       "      <td>AL</td>\n",
       "      <td>1</td>\n",
       "      <td>3</td>\n",
       "      <td>3</td>\n",
       "      <td>1</td>\n",
       "      <td>1</td>\n",
       "      <td>640.0</td>\n",
       "      <td>655.0</td>\n",
       "      <td>26.0</td>\n",
       "      <td>28.0</td>\n",
       "      <td>4</td>\n",
       "      <td>2</td>\n",
       "      <td>2</td>\n",
       "      <td>2</td>\n",
       "      <td>5</td>\n",
       "    </tr>\n",
       "    <tr>\n",
       "      <th>4</th>\n",
       "      <td>Alabama State University</td>\n",
       "      <td>AL</td>\n",
       "      <td>1</td>\n",
       "      <td>2</td>\n",
       "      <td>1</td>\n",
       "      <td>1</td>\n",
       "      <td>1</td>\n",
       "      <td>488.0</td>\n",
       "      <td>457.0</td>\n",
       "      <td>17.0</td>\n",
       "      <td>17.0</td>\n",
       "      <td>4</td>\n",
       "      <td>1</td>\n",
       "      <td>1</td>\n",
       "      <td>1</td>\n",
       "      <td>5</td>\n",
       "    </tr>\n",
       "    <tr>\n",
       "      <th>...</th>\n",
       "      <td>...</td>\n",
       "      <td>...</td>\n",
       "      <td>...</td>\n",
       "      <td>...</td>\n",
       "      <td>...</td>\n",
       "      <td>...</td>\n",
       "      <td>...</td>\n",
       "      <td>...</td>\n",
       "      <td>...</td>\n",
       "      <td>...</td>\n",
       "      <td>...</td>\n",
       "      <td>...</td>\n",
       "      <td>...</td>\n",
       "      <td>...</td>\n",
       "      <td>...</td>\n",
       "      <td>...</td>\n",
       "    </tr>\n",
       "    <tr>\n",
       "      <th>5798</th>\n",
       "      <td>Florida Academy of Nursing</td>\n",
       "      <td>FL</td>\n",
       "      <td>3</td>\n",
       "      <td>1</td>\n",
       "      <td>5</td>\n",
       "      <td>&lt;NA&gt;</td>\n",
       "      <td>0</td>\n",
       "      <td>NaN</td>\n",
       "      <td>NaN</td>\n",
       "      <td>NaN</td>\n",
       "      <td>NaN</td>\n",
       "      <td>&lt;NA&gt;</td>\n",
       "      <td>&lt;NA&gt;</td>\n",
       "      <td>3</td>\n",
       "      <td>1</td>\n",
       "      <td>4</td>\n",
       "    </tr>\n",
       "    <tr>\n",
       "      <th>5800</th>\n",
       "      <td>Lakewood University</td>\n",
       "      <td>OH</td>\n",
       "      <td>2</td>\n",
       "      <td>1</td>\n",
       "      <td>&lt;NA&gt;</td>\n",
       "      <td>&lt;NA&gt;</td>\n",
       "      <td>0</td>\n",
       "      <td>NaN</td>\n",
       "      <td>NaN</td>\n",
       "      <td>NaN</td>\n",
       "      <td>NaN</td>\n",
       "      <td>&lt;NA&gt;</td>\n",
       "      <td>&lt;NA&gt;</td>\n",
       "      <td>5</td>\n",
       "      <td>3</td>\n",
       "      <td>1</td>\n",
       "    </tr>\n",
       "    <tr>\n",
       "      <th>5813</th>\n",
       "      <td>Madera Community College</td>\n",
       "      <td>CA</td>\n",
       "      <td>1</td>\n",
       "      <td>3</td>\n",
       "      <td>&lt;NA&gt;</td>\n",
       "      <td>3</td>\n",
       "      <td>0</td>\n",
       "      <td>NaN</td>\n",
       "      <td>NaN</td>\n",
       "      <td>NaN</td>\n",
       "      <td>NaN</td>\n",
       "      <td>&lt;NA&gt;</td>\n",
       "      <td>4</td>\n",
       "      <td>4</td>\n",
       "      <td>2</td>\n",
       "      <td>2</td>\n",
       "    </tr>\n",
       "    <tr>\n",
       "      <th>5821</th>\n",
       "      <td>Great Northern University</td>\n",
       "      <td>WA</td>\n",
       "      <td>2</td>\n",
       "      <td>1</td>\n",
       "      <td>1</td>\n",
       "      <td>2</td>\n",
       "      <td>1</td>\n",
       "      <td>NaN</td>\n",
       "      <td>NaN</td>\n",
       "      <td>NaN</td>\n",
       "      <td>NaN</td>\n",
       "      <td>3</td>\n",
       "      <td>4</td>\n",
       "      <td>2</td>\n",
       "      <td>1</td>\n",
       "      <td>5</td>\n",
       "    </tr>\n",
       "    <tr>\n",
       "      <th>5824</th>\n",
       "      <td>Arizona College-Glendale</td>\n",
       "      <td>AZ</td>\n",
       "      <td>3</td>\n",
       "      <td>1</td>\n",
       "      <td>1</td>\n",
       "      <td>&lt;NA&gt;</td>\n",
       "      <td>0</td>\n",
       "      <td>NaN</td>\n",
       "      <td>NaN</td>\n",
       "      <td>NaN</td>\n",
       "      <td>NaN</td>\n",
       "      <td>3</td>\n",
       "      <td>&lt;NA&gt;</td>\n",
       "      <td>1</td>\n",
       "      <td>4</td>\n",
       "      <td>5</td>\n",
       "    </tr>\n",
       "  </tbody>\n",
       "</table>\n",
       "<p>3857 rows × 16 columns</p>\n",
       "</div>"
      ],
      "text/plain": [
       "                          InstitutionName StateCode  Control  SizeBin  \\\n",
       "0                Alabama A & M University        AL        1        3   \n",
       "1     University of Alabama at Birmingham        AL        1        5   \n",
       "2                      Amridge University        AL        2        1   \n",
       "3     University of Alabama in Huntsville        AL        1        3   \n",
       "4                Alabama State University        AL        1        2   \n",
       "...                                   ...       ...      ...      ...   \n",
       "5798           Florida Academy of Nursing        FL        3        1   \n",
       "5800                  Lakewood University        OH        2        1   \n",
       "5813             Madera Community College        CA        1        3   \n",
       "5821            Great Northern University        WA        2        1   \n",
       "5824             Arizona College-Glendale        AZ        3        1   \n",
       "\n",
       "      SelectivityBin  StudentFacultyRatioBin  TestOptional  SATVRMID  \\\n",
       "0                  4                    <NA>             1     475.0   \n",
       "1                  2                       1             1     637.0   \n",
       "2               <NA>                       1             1       NaN   \n",
       "3                  3                       1             1     640.0   \n",
       "4                  1                       1             1     488.0   \n",
       "...              ...                     ...           ...       ...   \n",
       "5798               5                    <NA>             0       NaN   \n",
       "5800            <NA>                    <NA>             0       NaN   \n",
       "5813            <NA>                       3             0       NaN   \n",
       "5821               1                       2             1       NaN   \n",
       "5824               1                    <NA>             0       NaN   \n",
       "\n",
       "      SATMTMID  ACTMTMID  ACTENMID  TuitionBin  LivingCostBin  CrimeRateBin  \\\n",
       "0        460.0      17.0      17.0           3           <NA>          <NA>   \n",
       "1        644.0      25.0      28.0           4              2             1   \n",
       "2          NaN       NaN       NaN        <NA>              1             1   \n",
       "3        655.0      26.0      28.0           4              2             2   \n",
       "4        457.0      17.0      17.0           4              1             1   \n",
       "...        ...       ...       ...         ...            ...           ...   \n",
       "5798       NaN       NaN       NaN        <NA>           <NA>             3   \n",
       "5800       NaN       NaN       NaN        <NA>           <NA>             5   \n",
       "5813       NaN       NaN       NaN        <NA>              4             4   \n",
       "5821       NaN       NaN       NaN           3              4             2   \n",
       "5824       NaN       NaN       NaN           3           <NA>             1   \n",
       "\n",
       "      DiversityIndexBin  PopulationBin  \n",
       "0                     1           <NA>  \n",
       "1                     4              5  \n",
       "2                     2              5  \n",
       "3                     2              5  \n",
       "4                     1              5  \n",
       "...                 ...            ...  \n",
       "5798                  1              4  \n",
       "5800                  3              1  \n",
       "5813                  2              2  \n",
       "5821                  1              5  \n",
       "5824                  4              5  \n",
       "\n",
       "[3857 rows x 16 columns]"
      ]
     },
     "execution_count": 17,
     "metadata": {},
     "output_type": "execute_result"
    }
   ],
   "source": [
    "### Subset merged data to get matching data\n",
    "matching_data = merged_final[['InstitutionName', 'StateCode', 'Control', 'SizeBin', 'SelectivityBin', 'StudentFacultyRatioBin', 'TestOptional', 'SATVRMID', 'SATMTMID', 'ACTMTMID', 'ACTENMID', 'TuitionBin', 'LivingCostBin', 'CrimeRateBin', 'DiversityIndexBin', 'PopulationBin']]\n",
    "matching_data"
   ]
  },
  {
   "cell_type": "code",
   "execution_count": 19,
   "metadata": {
    "cell_id": "cc67c5afa0cf4343bc0c6c4288fdfcd3",
    "deepnote_cell_type": "code"
   },
   "outputs": [],
   "source": [
    "### Save matching data to a new file\n",
    "matching_data.to_csv(current_folder / 'Matching_Data.csv', index=False)"
   ]
  },
  {
   "cell_type": "markdown",
   "metadata": {},
   "source": [
    "### MICE Imputation"
   ]
  },
  {
   "cell_type": "code",
   "execution_count": 20,
   "metadata": {},
   "outputs": [
    {
     "name": "stdout",
     "output_type": "stream",
     "text": [
      "                       InstitutionName StateCode  Control  SizeBin  \\\n",
      "0             Alabama A & M University        AL        1        3   \n",
      "1  University of Alabama at Birmingham        AL        1        5   \n",
      "2                   Amridge University        AL        2        1   \n",
      "3  University of Alabama in Huntsville        AL        1        3   \n",
      "4             Alabama State University        AL        1        2   \n",
      "\n",
      "   SelectivityBin  StudentFacultyRatioBin  TestOptional  SATVRMID  SATMTMID  \\\n",
      "0               4                       1             1       475       460   \n",
      "1               2                       1             1       637       644   \n",
      "2               3                       1             1       532       528   \n",
      "3               3                       1             1       640       655   \n",
      "4               1                       1             1       488       457   \n",
      "\n",
      "   ACTMTMID  ACTENMID  TuitionBin  LivingCostBin  CrimeRateBin  \\\n",
      "0        17        17           3              1             2   \n",
      "1        25        28           4              2             1   \n",
      "2        21        23           5              1             1   \n",
      "3        26        28           4              2             2   \n",
      "4        17        17           4              1             1   \n",
      "\n",
      "   DiversityIndexBin  PopulationBin  \n",
      "0                  1              4  \n",
      "1                  4              5  \n",
      "2                  2              5  \n",
      "3                  2              5  \n",
      "4                  1              5  \n"
     ]
    },
    {
     "name": "stderr",
     "output_type": "stream",
     "text": [
      "c:\\Users\\Hieu Tran\\AppData\\Local\\Programs\\Python\\Python312\\Lib\\site-packages\\sklearn\\impute\\_iterative.py:895: ConvergenceWarning: [IterativeImputer] Early stopping criterion not reached.\n",
      "  warnings.warn(\n"
     ]
    }
   ],
   "source": [
    "# Extract non-numerical columns\n",
    "non_numerical_cols = [\"InstitutionName\", \"StateCode\"]\n",
    "matching_data_non_numerical = matching_data[non_numerical_cols]\n",
    "\n",
    "# Extract numerical columns\n",
    "matching_data_numerical = matching_data.drop(columns=non_numerical_cols)\n",
    "\n",
    "# Step 1: Define the MICE imputer\n",
    "mice_imputer = IterativeImputer(random_state=42, max_iter=10)\n",
    "\n",
    "# Step 2: Perform the imputation on numerical data\n",
    "miced_matching_array = mice_imputer.fit_transform(matching_data_numerical)\n",
    "\n",
    "# Step 3: Create a new dataframe for the imputed numerical data\n",
    "miced_matching_numerical = pd.DataFrame(miced_matching_array, columns=matching_data_numerical.columns)\n",
    "\n",
    "# Round all columns in the dataframe to the nearest integer\n",
    "miced_matching_numerical = miced_matching_numerical.round(0).astype(int)\n",
    "\n",
    "# Step 4: Combine the imputed numerical data with the non-numerical columns\n",
    "miced_matching_data = pd.concat([matching_data_non_numerical.reset_index(drop=True), \n",
    "                                 miced_matching_numerical.reset_index(drop=True)], axis=1)\n",
    "\n",
    "# Step 5: Save the resulting dataframe to a file\n",
    "miced_matching_data.to_csv('miced_matching_data.csv', index=False)\n",
    "\n",
    "# Optional: Preview the imputed data\n",
    "print(miced_matching_data.head())"
   ]
  },
  {
   "cell_type": "markdown",
   "metadata": {
    "created_in_deepnote_cell": true,
    "deepnote_cell_type": "markdown"
   },
   "source": [
    "<a style='text-decoration:none;line-height:16px;display:flex;color:#5B5B62;padding:10px;justify-content:end;' href='https://deepnote.com?utm_source=created-in-deepnote-cell&projectId=28f6e439-b516-405e-ad62-5aa314d601ab' target=\"_blank\">\n",
    "<img alt='Created in deepnote.com' style='display:inline;max-height:16px;margin:0px;margin-right:7.5px;' src='data:image/svg+xml;base64,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' > </img>\n",
    "Created in <span style='font-weight:600;margin-left:4px;'>Deepnote</span></a>"
   ]
  }
 ],
 "metadata": {
  "deepnote_notebook_id": "b33a9770a9bf4322b1ac879c4b7f9562",
  "kernelspec": {
   "display_name": "Python 3",
   "language": "python",
   "name": "python3"
  },
  "language_info": {
   "codemirror_mode": {
    "name": "ipython",
    "version": 3
   },
   "file_extension": ".py",
   "mimetype": "text/x-python",
   "name": "python",
   "nbconvert_exporter": "python",
   "pygments_lexer": "ipython3",
   "version": "3.12.2"
  }
 },
 "nbformat": 4,
 "nbformat_minor": 0
}
